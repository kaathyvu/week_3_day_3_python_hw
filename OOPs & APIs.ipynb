{
 "cells": [
  {
   "cell_type": "markdown",
   "metadata": {},
   "source": [
    "# Object Oriented Programming 2 - examples and APIs\n"
   ]
  },
  {
   "cell_type": "markdown",
   "metadata": {},
   "source": [
    "## Tasks Today:\n",
    "\n",
    "   \n",
    "\n",
    "1) <b>Shopping Cart Example</b> <br>\n",
    "2) <b>Requests and the pokemon API </b> <br>\n",
    " "
   ]
  },
  {
   "cell_type": "markdown",
   "metadata": {},
   "source": [
    "# Goal \n",
    "### build a shopping cart program with prices and quantities using objects and a dictionary"
   ]
  },
  {
   "cell_type": "code",
   "execution_count": null,
   "metadata": {},
   "outputs": [],
   "source": [
    "from IPython.display import clear_output as clear\n",
    "# Create a class called cart that retains items and has methods to add, remove, and show\n",
    "\n",
    "class Cart():\n",
    "    def __init__(self):\n",
    "        self.items = {}\n",
    "    \n",
    "    # Add items to cart\n",
    "    def add(self):\n",
    "        clear()\n",
    "        new_item = input(\"What do you want to add? \")\n",
    "        qty = int(input(f\"How many {new_item.title()}(s) do you want to add? (Enter a number) \"))\n",
    "        if new_item not in self.items:\n",
    "            self.items[new_item.title()] = qty\n",
    "        else:\n",
    "            self.items[new_item.title()] += qty\n",
    "        print(f\"{qty} {new_item.title()} was added to the cart\")\n",
    "    \n",
    "    # Remove items from cart\n",
    "    def remove(self):\n",
    "        clear()\n",
    "        discard = input(\"What would you like to discard? \")\n",
    "        qty = int(input(f\"How many {discard.title()}(s) would you like to remove? (Enter a number) \"))\n",
    "        try: # we want to do a try & except because we want to check if item is in dictionary\n",
    "            self.items[discard.title()] -= qty\n",
    "            if self.items[discard.title()] <= 0:\n",
    "                del self.items[discard.title()]\n",
    "            print(f\"{qty} {discard.title()} has/have been removed from the cart\")\n",
    "        except:\n",
    "            print(f\"{discard} was not in your cart!\")\n",
    "        self.show()\n",
    "    \n",
    "    # Show items in cart\n",
    "    def show(self):\n",
    "        print(\"Your cart has the following items: \")\n",
    "        for item, qty in self.items.items():\n",
    "            print(f\"\\t{item} | Quantity: {qty}\")\n",
    "    \n",
    "    # Checkout items from cart\n",
    "    def checkout(self):\n",
    "        clear()\n",
    "        if not self.items: # if our dictionary is empty\n",
    "            print(\"You have nothing in your cart to checkout!\")\n",
    "        else:\n",
    "            print(\"Thanks for shopping at Aldi!\")\n",
    "            self.show\n",
    "    \n",
    "# Control flow class Main - runs the overall program\n",
    "# This differs from run() because with run(), we had to instantiate a class object outside ( my_cart = Cart() ),\n",
    "# and then referenced that object inside that run function ( my_cart.add() )\n",
    "# Creating a main class allows us to instantiate within that main class\n",
    "                  \n",
    "class Main:\n",
    "    def showInstructions():\n",
    "        print(\"\"\"\n",
    "        Welcome to Aldi!\n",
    "        Options:\n",
    "        [1] Show Current Cart\n",
    "        [2] Add Item\n",
    "        [3] Remove Item\n",
    "        [4] Quit\n",
    "        [5] Show Instructions\n",
    "        \"\"\")\n",
    "                  \n",
    "    def run():\n",
    "        Main.showInstructions()\n",
    "        my_cart = Cart()\n",
    "        \n",
    "        while True:\n",
    "            choice = input(\"What would you like to do? \")\n",
    "            if choice == '1':\n",
    "                if my_cart.items == {}:\n",
    "                    print(\"Your cart is empty, let's get shoppin'!\")\n",
    "                else:\n",
    "                    my_cart.show()\n",
    "            elif choice == '2':\n",
    "                my_cart.add()\n",
    "            elif choice == '3':\n",
    "                if my_cart.items == {}:\n",
    "                    print(\"Your cart is empty, please add something before trying to remove it!\")\n",
    "                else:\n",
    "                    my_cart.remove()\n",
    "            elif choice == '4':\n",
    "                my_cart.checkout()\n",
    "                break    \n",
    "            elif choice == '5':\n",
    "                Main.showInstructions()\n",
    "            else:\n",
    "                print(\"Invalid input, please try again!\")\n",
    "                  \n",
    "Main.run()"
   ]
  },
  {
   "cell_type": "markdown",
   "metadata": {},
   "source": [
    "# working with APis"
   ]
  },
  {
   "cell_type": "markdown",
   "metadata": {},
   "source": [
    "<p> What exactly is an API? <br> <br>\n",
    "API is the acronym for Application Programming Interface, which is a software intermediary that allows two applications to talk to each other. Each time you use an app like Facebook, send an instant message, or check the weather on your phone, you're using an API. </p>"
   ]
  },
  {
   "cell_type": "markdown",
   "metadata": {},
   "source": [
    "### The Poke API  allows you to retreive a pokemon's information from PokeAPI https://pokeapi.co/\n",
    "\n"
   ]
  },
  {
   "cell_type": "code",
   "execution_count": null,
   "metadata": {},
   "outputs": [],
   "source": [
    "pip install requests"
   ]
  },
  {
   "cell_type": "code",
   "execution_count": null,
   "metadata": {},
   "outputs": [],
   "source": [
    "# API is a set of definitions and protocols for building and integrating applications\n",
    "# Sometimes referred to as a contract between an information provider and an information user—establishing\n",
    "# the content required from the consumer (the call) and the content required by the producer (the response).\n",
    "# The user requests data from a provider, and the API is the middle man that transfers the info\n",
    "\n",
    "# making an API call\n",
    "import requests\n",
    "\n",
    "r = requests.get('https://pokeapi.co/api/v2/pokemon/charmander')\n",
    "# print(r) prints a response code -- 200s means sucessful\n",
    "if r.status_code == 200:\n",
    "    data = r.json()\n",
    "print(data['abilities']) # this goes into our pokemon data dictionary and accesses the key named 'abilities'\n",
    "print(\"\\n\")\n",
    "print(data.keys()) # this displays all the keys in our dictionary"
   ]
  },
  {
   "cell_type": "markdown",
   "metadata": {},
   "source": [
    "### Display a Pokemon's name, weight, abilities, and types"
   ]
  },
  {
   "cell_type": "code",
   "execution_count": null,
   "metadata": {},
   "outputs": [],
   "source": [
    "# get the name\n",
    "name = data['name']\n",
    "print(name)"
   ]
  },
  {
   "cell_type": "code",
   "execution_count": null,
   "metadata": {},
   "outputs": [],
   "source": [
    "# get types -- there are two ways of doing this\n",
    "\n",
    "#1\n",
    "my_types = []\n",
    "for type_ in data['types']:\n",
    "    my_types.append(type_['type']['name'])\n",
    "print(my_types)\n",
    "\n",
    "#2\n",
    "types = [type_['type']['name'] for type_ in data['types']]\n",
    "print(types)"
   ]
  },
  {
   "cell_type": "code",
   "execution_count": null,
   "metadata": {},
   "outputs": [],
   "source": [
    "# get weight\n",
    "weight = data['weight']\n",
    "print(weight)"
   ]
  },
  {
   "cell_type": "code",
   "execution_count": null,
   "metadata": {},
   "outputs": [],
   "source": [
    "# get abilities\n",
    "abilities = [ability['ability']['name'] for ability in data['abilities']]\n",
    "print(abilities)"
   ]
  },
  {
   "cell_type": "code",
   "execution_count": null,
   "metadata": {},
   "outputs": [],
   "source": [
    "# Create a structure for a single pokemon\n",
    "\n",
    "my_pokemon = {\n",
    "    'name': '',\n",
    "    'abilities': [],\n",
    "    'weight': '',\n",
    "    'types': [],\n",
    "}"
   ]
  },
  {
   "cell_type": "code",
   "execution_count": null,
   "metadata": {},
   "outputs": [],
   "source": [
    "charmander = {\n",
    "    'name': name,\n",
    "    'abilities': abilities,\n",
    "    'weight': weight,\n",
    "    'types': types\n",
    "}\n",
    "\n",
    "print(charmander)"
   ]
  },
  {
   "cell_type": "markdown",
   "metadata": {},
   "source": [
    "#### Create a function to Pull in your own Pokemon's data "
   ]
  },
  {
   "cell_type": "code",
   "execution_count": null,
   "metadata": {},
   "outputs": [],
   "source": [
    "import requests\n",
    "\n",
    "party = ['arcanine', 'dragonite', 'gyarados', 'mew', 'zapdos', 'venusaur']\n",
    "\n",
    "def poke_api_call(pokemon):\n",
    "    req = requests.get(f\"https://pokeapi.co/api/v2/pokemon/{pokemon}\")\n",
    "    if req.status_code == 200:\n",
    "        data = req.json() # this \"JSONify's\" the data\n",
    "        \n",
    "        name = data['name']\n",
    "        types = [pokemon['type']['name'] for pokemon in data['types']]\n",
    "        abilities = [pokemon['ability']['name'] for pokemon in data['abilities']]\n",
    "        \n",
    "        poke = {\n",
    "            \"name\": name,\n",
    "            \"abilities\": abilities,\n",
    "            \"weight\": weight,\n",
    "            \"types\": types,\n",
    "        }\n",
    "        \n",
    "        return poke\n",
    "    \n",
    "# Place all 6 of your pokemon on the object below, each pokemon should have at least as much info as Pikachu did.\n",
    "my_six_pokemon = {}\n",
    "\n",
    "for pokemon in party:\n",
    "    poke_stats = poke_api_call(pokemon)\n",
    "    my_six_pokemon[poke_stats['name'].title()] = poke_stats\n",
    "    \n",
    "my_six_pokemon"
   ]
  },
  {
   "cell_type": "markdown",
   "metadata": {},
   "source": [
    "Choose your pokemon"
   ]
  },
  {
   "cell_type": "code",
   "execution_count": null,
   "metadata": {},
   "outputs": [],
   "source": [
    "from random import randint\n",
    "# Random number generated for each pokemon id\n",
    "random_team = [randint(1,898) for i in range(6)]\n",
    "\n",
    "your_team = ['electabuzz', 'haunter','tyranitar','blaziken','marowak','dragonair']\n"
   ]
  },
  {
   "cell_type": "markdown",
   "metadata": {},
   "source": [
    "#### Use your function to create a dictionary of your favorite 6 pokemon"
   ]
  },
  {
   "cell_type": "code",
   "execution_count": null,
   "metadata": {},
   "outputs": [],
   "source": [
    "# Place all 6 of your pokemon on the object below, each pokemon should have at least as much info as Pikachu did.\n",
    "my_six_pokemon = {}\n",
    "# See above"
   ]
  },
  {
   "cell_type": "markdown",
   "metadata": {},
   "source": [
    "## Lets create a class called 'Pokemon' and create our pokemon as instances"
   ]
  },
  {
   "cell_type": "code",
   "execution_count": null,
   "metadata": {},
   "outputs": [],
   "source": [
    "class Pokemon():\n",
    "    def __init__(self, name):\n",
    "        self.name = name\n",
    "        self.types = []\n",
    "        self.abilities = []\n",
    "        self.weight = None\n",
    "        self.poke_api_call()\n",
    "    \n",
    "    def poke_api_call(self):\n",
    "        r = requests.get(f\"https://pokeapi.co/api/v2/pokemon/{self.name}\")\n",
    "        if r.status_code == 200:\n",
    "            pokemon = r.json() # we just changed our variable from data to pokemon, but doing same thing\n",
    "        else:\n",
    "            print(f\"Please check pokemon name spelling and try again: {r.status_code}\")\n",
    "        \n",
    "        self.name = pokemon['name']\n",
    "        self.types = [pokemon['type']['name'] for pokemon in pokemon['types']]\n",
    "        self.abilities = [pokemon['ability']['name'] for pokemon in pokemon['abilities']]\n",
    "        self.weight = pokemon['weight']\n",
    "        print(f\"{self.name}'s data has been updated!\")\n",
    "    \n",
    "    #__repr__ is a special method used to give info of the class' object and its attributes as a string\n",
    "    def __repr__(self):\n",
    "        return f\"You caught a {self.name}!!!\""
   ]
  },
  {
   "cell_type": "markdown",
   "metadata": {},
   "source": [
    "### Let's Catch some Pokemon"
   ]
  },
  {
   "cell_type": "code",
   "execution_count": null,
   "metadata": {},
   "outputs": [],
   "source": [
    "charmander = Pokemon(\"charmander\")\n",
    "print(charmander)\n",
    "print(charmander.__dict__)"
   ]
  },
  {
   "cell_type": "code",
   "execution_count": null,
   "metadata": {},
   "outputs": [],
   "source": [
    "party = ['arcanine', 'dragonite', 'gyarados', 'mew', 'zapdos', 'venusaur']\n",
    "pokedex = {}\n",
    "\n",
    "for name in party:\n",
    "    new = Pokemon(name)\n",
    "    pokedex[new.name] = new.__dict__ # this turns all the attributes into a dictionary\n",
    "\n",
    "pokedex"
   ]
  },
  {
   "cell_type": "markdown",
   "metadata": {},
   "source": [
    "## Exercise 1:"
   ]
  },
  {
   "cell_type": "markdown",
   "metadata": {},
   "source": [
    "### Create a Method prints an image of your pokemon\n",
    "\n",
    "<p>HINT: You may need another attribute as well to store your image url within. </p>"
   ]
  },
  {
   "cell_type": "code",
   "execution_count": null,
   "metadata": {},
   "outputs": [],
   "source": [
    "# Display an image in Jupyter notebook\n",
    "from IPython.display import Image\n",
    "\n",
    "display(Image( 'https://i.redd.it/45n4mhusa8l41.jpg', width = 300))\n"
   ]
  },
  {
   "cell_type": "code",
   "execution_count": null,
   "metadata": {},
   "outputs": [],
   "source": [
    "# recreate your pokemon class here\n",
    "import requests\n",
    "from IPython.display import Image\n",
    "\n",
    "class Pokemon():\n",
    "    def __init__(self, name):\n",
    "        self.name = name\n",
    "        self.types = []\n",
    "        self.abilities = []\n",
    "        self.weight = None\n",
    "        # new image attribute\n",
    "        self.image = None\n",
    "        self.poke_api_call()\n",
    "    \n",
    "    def poke_api_call(self):\n",
    "        r = requests.get(f\"https://pokeapi.co/api/v2/pokemon/{self.name}\")\n",
    "        if r.status_code == 200:\n",
    "            pokemon = r.json() # we just changed our variable from data to pokemon, but doing same thing\n",
    "        else:\n",
    "            print(f\"Please check pokemon name spelling and try again: {r.status_code}\")\n",
    "            return\n",
    "        \n",
    "        self.name = pokemon['name']\n",
    "        self.types = [pokemon['type']['name'] for pokemon in pokemon['types']]\n",
    "        self.abilities = [pokemon['ability']['name'] for pokemon in pokemon['abilities']]\n",
    "        self.weight = pokemon['weight']\n",
    "        # new image details\n",
    "        self.image = pokemon['sprites']['front_default'] # this take our image in our dict and grabs the URL\n",
    "        print(f\"{self.name}'s data has been updated!\")\n",
    "        \n",
    "    # Display our image with a method\n",
    "    def display(self):\n",
    "        display(Image(url = self.image)) # using the Python display Image, we set our url to our self.image\n",
    "    \n",
    "    #__repr__ is a special method used to give info of the class' object and its attributes as a string\n",
    "    def __repr__(self):\n",
    "        return f\"You caught a {self.name}!!!\""
   ]
  },
  {
   "cell_type": "code",
   "execution_count": null,
   "metadata": {},
   "outputs": [],
   "source": [
    "arcanine = Pokemon(\"arcanine\")\n",
    "\n",
    "arcanine.display()"
   ]
  },
  {
   "cell_type": "code",
   "execution_count": null,
   "metadata": {},
   "outputs": [],
   "source": [
    "# Calling our new method\n"
   ]
  },
  {
   "cell_type": "markdown",
   "metadata": {},
   "source": [
    "## Exercise 2:"
   ]
  },
  {
   "cell_type": "markdown",
   "metadata": {},
   "source": [
    "### Create a Method that evolves your Pokemon\n",
    "If your pokemon can't evolve any further print a message that says \"\\<name of pokemon> can't evolve.\""
   ]
  },
  {
   "cell_type": "code",
   "execution_count": null,
   "metadata": {},
   "outputs": [],
   "source": [
    "from time import sleep\n",
    "\n",
    "class Evolver: # Need to stick Evolver class into Pokemon class\n",
    "    def evolve(self):\n",
    "        # API call for pokemon species\n",
    "        r = requests.get(f\"https://pokeapi.co/api/v2/pokemon-species/{self.name}/\")\n",
    "        if r.status_code == 200:\n",
    "            pokemon_species = r.json()\n",
    "        else:\n",
    "            print(f\"Ran into an issue. Please check your pokemon's name! {r.status_code}\")\n",
    "            return\n",
    "        \n",
    "        r = requests.get(pokemon_species['evolution_chain']['url'])\n",
    "        if r.status_code == 200:\n",
    "            ev_chain = r.json()\n",
    "            ev_chain = ev_chain['chain']\n",
    "        else:\n",
    "            print(f\"Ran into an issue. Please check your pokemon's name! {r.status_code}\")\n",
    "            return \n",
    "        \n",
    "        # this section will go into the evolution details object\n",
    "        base_name = ev_chain['species']['name']\n",
    "        evolution = ev_chain['evolves_to'][0]\n",
    "        evolution_name = evolution['species']['name']\n",
    "        \n",
    "        # Evolution 1\n",
    "        if base_name == self.name:\n",
    "            pass\n",
    "        # Evolution 2\n",
    "        elif evolution_name == self.name:\n",
    "            evolution_name = evolution['evolves_to'][0]['species']['name']\n",
    "        # Evolution 3\n",
    "        else:\n",
    "            print(f\"You can't evolve your {self.name} anymore...\")\n",
    "            \n",
    "        print(\"..........\")\n",
    "        sleep(1)\n",
    "        print(f\"Your {self.name} is evolving!?!\")\n",
    "        self.display()\n",
    "        sleep(1)\n",
    "        print(\"..........\")\n",
    "        self.name = evolution_name\n",
    "        self.poke_api_call()\n",
    "        self.display()\n",
    "        \n",
    "class Pokemon(Evolver):\n",
    "    def __init__(self, name):\n",
    "        self.name = name\n",
    "        self.types = []\n",
    "        self.abilities = []\n",
    "        self.weight = None\n",
    "        # new image attribute\n",
    "        self.image = None\n",
    "        self.poke_api_call()\n",
    "    \n",
    "    def poke_api_call(self):\n",
    "        r = requests.get(f\"https://pokeapi.co/api/v2/pokemon/{self.name}\")\n",
    "        if r.status_code == 200:\n",
    "            pokemon = r.json() # we just changed our variable from data to pokemon, but doing same thing\n",
    "        else:\n",
    "            print(f\"Please check pokemon name spelling and try again: {r.status_code}\")\n",
    "            return\n",
    "        \n",
    "        self.name = pokemon['name']\n",
    "        self.types = [pokemon['type']['name'] for pokemon in pokemon['types']]\n",
    "        self.abilities = [pokemon['ability']['name'] for pokemon in pokemon['abilities']]\n",
    "        self.weight = pokemon['weight']\n",
    "        # new image details\n",
    "        self.image = pokemon['sprites']['front_shiny'] # this take our image in our dict and grabs the URL\n",
    "        print(f\"{self.name}'s data has been updated!\")\n",
    "        \n",
    "    # Display our image with a method\n",
    "    def display(self):\n",
    "        display(Image(url = self.image)) # using the Python display Image, we set our url to our self.image\n",
    "    \n",
    "    #__repr__ is a special method used to give info of the class' object and its attributes as a string\n",
    "    def __repr__(self):\n",
    "        return f\"You caught a {self.name}!!!\""
   ]
  },
  {
   "cell_type": "markdown",
   "metadata": {},
   "source": [
    "Now let's evolve a few"
   ]
  },
  {
   "cell_type": "code",
   "execution_count": null,
   "metadata": {
    "scrolled": true
   },
   "outputs": [],
   "source": [
    "dratini = Pokemon(\"dratini\")\n",
    "dratini.evolve()\n",
    "dragonair = Pokemon(\"dragonair\")\n",
    "dragonair.evolve()"
   ]
  },
  {
   "cell_type": "code",
   "execution_count": null,
   "metadata": {},
   "outputs": [],
   "source": []
  },
  {
   "cell_type": "code",
   "execution_count": null,
   "metadata": {},
   "outputs": [],
   "source": []
  },
  {
   "cell_type": "markdown",
   "metadata": {},
   "source": [
    "#  Final Exercise: <br> <br>Create a Move_Tutor Class that will allow the Pokemon Class to inherit a move list.\n",
    "<br>\n",
    "<p>for an added bonus you can make sure that if a pokemon has 4 moves the user can choose one of them to replace with a new move. </p>"
   ]
  },
  {
   "cell_type": "code",
   "execution_count": 12,
   "metadata": {},
   "outputs": [],
   "source": [
    "import requests\n",
    "import random\n",
    "from time import sleep\n",
    "from IPython.display import clear_output as clear\n",
    "from IPython.display import Image\n",
    "\n",
    "class Move_Tutor():\n",
    "    def __init__(self):\n",
    "        self.move_list = []\n",
    "        self.current_moves = []\n",
    "        \n",
    "    def move(self):\n",
    "        r = requests.get(f\"https://pokeapi.co/api/v2/pokemon/{self.name}\")\n",
    "        if r.status_code == 200:\n",
    "            pokemon = r.json()\n",
    "        else:\n",
    "            print(f\"Ran into an issue. Please check your pokemon's name! {r.status_code}\")\n",
    "            return\n",
    "        \n",
    "        self.move_list = [pokemon['move']['name'] for pokemon in pokemon['moves']]\n",
    "    \n",
    "    # Teaches pokemon a new random move\n",
    "    def random_move(self):\n",
    "        if len(self.current_moves) < 4:\n",
    "            clear()\n",
    "            print(f\"You try to teach your {self.name} a new move.\")\n",
    "            sleep(1)\n",
    "            print(\"....................\")\n",
    "            sleep(1)\n",
    "            print(f\"Can your {self.name} learn it successfully?\")\n",
    "            sleep(1)\n",
    "            print(\"....................\")\n",
    "            sleep(1)\n",
    "            new_move = random.choice(self.move_list)\n",
    "            # This will remove new_move from move_list so pokemon won't learn it twice\n",
    "            self.move_list.remove(new_move)\n",
    "            self.current_moves.append(new_move)\n",
    "            print(f\"Awesome! Your {self.name} just learned the move: {new_move}!\")\n",
    "            self.display()\n",
    "        elif len(self.current_moves) >= 4:\n",
    "            clear()\n",
    "            print(f\"Your {self.name} already knows four moves and cannot learn anymore!\")\n",
    "            self.show_moves()\n",
    "            while True:\n",
    "                replace = input(\"\\nWould you like to replace one of the moves with a new move? Y/N \")\n",
    "                if replace.lower().strip() == 'y':\n",
    "                    deleted_move = input(\"Which move would you like to replace? \")\n",
    "                    self.current_moves.remove(deleted_move.lower().strip())\n",
    "                    # When a pokemon unlearns a move, it is put back into move_list to be relearned again\n",
    "                    self.move_list.append(deleted_move)\n",
    "                    clear()\n",
    "                    print(f\"Your {self.name} will forget {deleted_move} and will now learn a new move!\")\n",
    "                    self.teach_move()\n",
    "                    break\n",
    "                elif replace.lower().strip() == 'n':\n",
    "                    clear()\n",
    "                    print(f\"Your {self.name} will not learn any new moves.\")\n",
    "                    break\n",
    "                else:\n",
    "                    print(\"Please enter a valid option.\")\n",
    "    \n",
    "    # Teaches pokemon a new move that the user chose\n",
    "    def teach_move(self):\n",
    "        while True:\n",
    "            move = input\\\n",
    "            (f\"Enter a move you want to teach {self.name} or 'random' to learn a random move. Enter 'quit' to quit. \")\n",
    "            if move.lower().strip() == 'random':\n",
    "                self.random_move()\n",
    "                break\n",
    "            elif move.lower().strip() in self.move_list and len(self.current_moves) < 4:\n",
    "                clear()\n",
    "                print(f\"You try to teach your {self.name} a new move.\")\n",
    "                sleep(1)\n",
    "                print(\"....................\")\n",
    "                sleep(1)\n",
    "                print(f\"Can your {self.name} learn it successfully?\")\n",
    "                sleep(1)\n",
    "                print(\"....................\")\n",
    "                sleep(1)\n",
    "                new_move = move.lower().strip()\n",
    "                # This will remove new_move from move_list so pokemon won't learn it twice\n",
    "                self.move_list.remove(new_move)\n",
    "                self.current_moves.append(new_move)\n",
    "                print(f\"Awesome! Your {self.name} just learned the move: {new_move}!\")\n",
    "                self.display()\n",
    "                break\n",
    "            elif move.lower().strip() in self.move_list and len(self.current_moves) >= 4:\n",
    "                clear()\n",
    "                print(f\"Your {self.name} already knows four moves and cannot learn anymore!\")\n",
    "                self.show_moves()\n",
    "                while True:\n",
    "                    replace = input(\"\\nWould you like to replace one of the moves with a new move? Y/N \")\n",
    "                    if replace.lower().strip() == 'y':\n",
    "                        deleted_move = input(\"Which move would you like to replace? \")\n",
    "                        self.current_moves.remove(deleted_move.lower().strip())\n",
    "                        # When a pokemon unlearns a move, it is put back into move_list to be relearned again\n",
    "                        self.move_list.append(deleted_move)\n",
    "                        clear()\n",
    "                        print(f\"Your {self.name} will forget {deleted_move} and will now learn a new move!\")\n",
    "                        self.teach_move()\n",
    "                        break\n",
    "                    elif replace.lower().strip() == 'n':\n",
    "                        clear()\n",
    "                        print(f\"Your {self.name} will not learn any new moves.\")\n",
    "                        break\n",
    "                    else:\n",
    "                        print(\"Please enter a valid option.\")\n",
    "            elif move.lower().strip() == 'quit':\n",
    "                print(f\"Your {self.name} will not learn any new moves.\")\n",
    "                break\n",
    "            else:\n",
    "                print(\"Please enter a valid option\")\n",
    "    \n",
    "    # Shows the pokemon's current moves\n",
    "    def show_moves(self):\n",
    "        print(f\"Your {self.name} knows these current moves:\")\n",
    "        for move in self.current_moves:\n",
    "            print(f\"\\t- {move}\")\n",
    "\n",
    "class Pokemon(Move_Tutor):\n",
    "    def __init__(self, name):\n",
    "        super().__init__ # need this in order to inherit the parent's attributes\n",
    "        Move_Tutor.__init__(self) # this is another way to inherit the parent's attributes\n",
    "        self.name = name\n",
    "        self.types = []\n",
    "        self.abilities = []\n",
    "        self.weight = None\n",
    "        # new image attribute\n",
    "        self.image = None\n",
    "        self.poke_api_call()\n",
    "    \n",
    "    def poke_api_call(self):\n",
    "        r = requests.get(f\"https://pokeapi.co/api/v2/pokemon/{self.name}\")\n",
    "        if r.status_code == 200:\n",
    "            pokemon = r.json() # we just changed our variable from data to pokemon, but doing same thing\n",
    "        else:\n",
    "            print(f\"Please check pokemon name spelling and try again: {r.status_code}\")\n",
    "            return\n",
    "        \n",
    "        self.name = pokemon['name']\n",
    "        self.types = [pokemon['type']['name'] for pokemon in pokemon['types']]\n",
    "        self.abilities = [pokemon['ability']['name'] for pokemon in pokemon['abilities']]\n",
    "        self.weight = pokemon['weight']\n",
    "        # new image details\n",
    "        self.image = pokemon['sprites']['front_default'] # this take our image in our dict and grabs the URL\n",
    "        print(f\"{self.name}'s data has been updated!\")\n",
    "        \n",
    "    # Display our image with a method\n",
    "    def display(self):\n",
    "        display(Image(url = self.image)) # using the Python display Image, we set our url to our self.image\n",
    "    \n",
    "    #__repr__ is a special method used to give info of the class' object and its attributes as a string\n",
    "    def __repr__(self):\n",
    "        return f\"You caught a {self.name}!!!\""
   ]
  },
  {
   "cell_type": "code",
   "execution_count": 13,
   "metadata": {},
   "outputs": [
    {
     "name": "stdout",
     "output_type": "stream",
     "text": [
      "lickitung's data has been updated!\n"
     ]
    },
    {
     "data": {
      "text/plain": [
       "['mega-punch',\n",
       " 'fire-punch',\n",
       " 'ice-punch',\n",
       " 'thunder-punch',\n",
       " 'swords-dance',\n",
       " 'cut',\n",
       " 'bind',\n",
       " 'slam',\n",
       " 'stomp',\n",
       " 'mega-kick',\n",
       " 'headbutt',\n",
       " 'body-slam',\n",
       " 'wrap',\n",
       " 'take-down',\n",
       " 'thrash',\n",
       " 'double-edge',\n",
       " 'supersonic',\n",
       " 'disable',\n",
       " 'acid',\n",
       " 'flamethrower',\n",
       " 'water-gun',\n",
       " 'hydro-pump',\n",
       " 'surf',\n",
       " 'ice-beam',\n",
       " 'blizzard',\n",
       " 'bubble-beam',\n",
       " 'hyper-beam',\n",
       " 'submission',\n",
       " 'counter',\n",
       " 'seismic-toss',\n",
       " 'strength',\n",
       " 'solar-beam',\n",
       " 'thunderbolt',\n",
       " 'thunder',\n",
       " 'earthquake',\n",
       " 'fissure',\n",
       " 'dig',\n",
       " 'toxic',\n",
       " 'rage',\n",
       " 'mimic',\n",
       " 'screech',\n",
       " 'double-team',\n",
       " 'defense-curl',\n",
       " 'bide',\n",
       " 'lick',\n",
       " 'fire-blast',\n",
       " 'skull-bash',\n",
       " 'amnesia',\n",
       " 'dream-eater',\n",
       " 'rest',\n",
       " 'rock-slide',\n",
       " 'substitute',\n",
       " 'thief',\n",
       " 'nightmare',\n",
       " 'snore',\n",
       " 'curse',\n",
       " 'protect',\n",
       " 'belly-drum',\n",
       " 'mud-slap',\n",
       " 'icy-wind',\n",
       " 'sandstorm',\n",
       " 'endure',\n",
       " 'rollout',\n",
       " 'swagger',\n",
       " 'attract',\n",
       " 'sleep-talk',\n",
       " 'return',\n",
       " 'frustration',\n",
       " 'magnitude',\n",
       " 'dynamic-punch',\n",
       " 'iron-tail',\n",
       " 'hidden-power',\n",
       " 'rain-dance',\n",
       " 'sunny-day',\n",
       " 'psych-up',\n",
       " 'shadow-ball',\n",
       " 'rock-smash',\n",
       " 'whirlpool',\n",
       " 'facade',\n",
       " 'focus-punch',\n",
       " 'smelling-salts',\n",
       " 'helping-hand',\n",
       " 'brick-break',\n",
       " 'knock-off',\n",
       " 'refresh',\n",
       " 'secret-power',\n",
       " 'rock-tomb',\n",
       " 'muddy-water',\n",
       " 'shock-wave',\n",
       " 'water-pulse',\n",
       " 'hammer-arm',\n",
       " 'natural-gift',\n",
       " 'fling',\n",
       " 'wring-out',\n",
       " 'me-first',\n",
       " 'aqua-tail',\n",
       " 'giga-impact',\n",
       " 'zen-headbutt',\n",
       " 'rock-climb',\n",
       " 'power-whip',\n",
       " 'captivate',\n",
       " 'round',\n",
       " 'chip-away',\n",
       " 'incinerate',\n",
       " 'retaliate',\n",
       " 'bulldoze',\n",
       " 'dragon-tail',\n",
       " 'work-up',\n",
       " 'belch',\n",
       " 'confide',\n",
       " 'power-up-punch',\n",
       " 'brutal-swing',\n",
       " 'stomping-tantrum',\n",
       " 'body-press',\n",
       " 'steel-roller',\n",
       " 'terrain-pulse']"
      ]
     },
     "execution_count": 13,
     "metadata": {},
     "output_type": "execute_result"
    }
   ],
   "source": [
    "lickitung = Pokemon(\"lickitung\")\n",
    "lickitung.move()\n",
    "lickitung.move_list"
   ]
  },
  {
   "cell_type": "code",
   "execution_count": 14,
   "metadata": {
    "scrolled": true
   },
   "outputs": [
    {
     "name": "stdout",
     "output_type": "stream",
     "text": [
      "You try to teach your lickitung a new move.\n",
      "....................\n",
      "Can your lickitung learn it successfully?\n",
      "....................\n",
      "Awesome! Your lickitung just learned the move: lick!\n"
     ]
    },
    {
     "data": {
      "text/html": [
       "<img src=\"https://raw.githubusercontent.com/PokeAPI/sprites/master/sprites/pokemon/108.png\"/>"
      ],
      "text/plain": [
       "<IPython.core.display.Image object>"
      ]
     },
     "metadata": {},
     "output_type": "display_data"
    }
   ],
   "source": [
    "lickitung.teach_move()"
   ]
  },
  {
   "cell_type": "code",
   "execution_count": 15,
   "metadata": {},
   "outputs": [
    {
     "name": "stdout",
     "output_type": "stream",
     "text": [
      "You try to teach your lickitung a new move.\n",
      "....................\n",
      "Can your lickitung learn it successfully?\n",
      "....................\n",
      "Awesome! Your lickitung just learned the move: hydro-pump!\n"
     ]
    },
    {
     "data": {
      "text/html": [
       "<img src=\"https://raw.githubusercontent.com/PokeAPI/sprites/master/sprites/pokemon/108.png\"/>"
      ],
      "text/plain": [
       "<IPython.core.display.Image object>"
      ]
     },
     "metadata": {},
     "output_type": "display_data"
    }
   ],
   "source": [
    "lickitung.teach_move()"
   ]
  },
  {
   "cell_type": "code",
   "execution_count": 16,
   "metadata": {},
   "outputs": [
    {
     "name": "stdout",
     "output_type": "stream",
     "text": [
      "You try to teach your lickitung a new move.\n",
      "....................\n",
      "Can your lickitung learn it successfully?\n",
      "....................\n",
      "Awesome! Your lickitung just learned the move: surf!\n"
     ]
    },
    {
     "data": {
      "text/html": [
       "<img src=\"https://raw.githubusercontent.com/PokeAPI/sprites/master/sprites/pokemon/108.png\"/>"
      ],
      "text/plain": [
       "<IPython.core.display.Image object>"
      ]
     },
     "metadata": {},
     "output_type": "display_data"
    }
   ],
   "source": [
    "lickitung.teach_move()"
   ]
  },
  {
   "cell_type": "code",
   "execution_count": 17,
   "metadata": {},
   "outputs": [
    {
     "name": "stdout",
     "output_type": "stream",
     "text": [
      "You try to teach your lickitung a new move.\n",
      "....................\n",
      "Can your lickitung learn it successfully?\n",
      "....................\n",
      "Awesome! Your lickitung just learned the move: thunder-punch!\n"
     ]
    },
    {
     "data": {
      "text/html": [
       "<img src=\"https://raw.githubusercontent.com/PokeAPI/sprites/master/sprites/pokemon/108.png\"/>"
      ],
      "text/plain": [
       "<IPython.core.display.Image object>"
      ]
     },
     "metadata": {},
     "output_type": "display_data"
    }
   ],
   "source": [
    "lickitung.teach_move()"
   ]
  },
  {
   "cell_type": "code",
   "execution_count": 18,
   "metadata": {},
   "outputs": [
    {
     "name": "stdout",
     "output_type": "stream",
     "text": [
      "You try to teach your lickitung a new move.\n",
      "....................\n",
      "Can your lickitung learn it successfully?\n",
      "....................\n",
      "Awesome! Your lickitung just learned the move: round!\n"
     ]
    },
    {
     "data": {
      "text/html": [
       "<img src=\"https://raw.githubusercontent.com/PokeAPI/sprites/master/sprites/pokemon/108.png\"/>"
      ],
      "text/plain": [
       "<IPython.core.display.Image object>"
      ]
     },
     "metadata": {},
     "output_type": "display_data"
    },
    {
     "name": "stdout",
     "output_type": "stream",
     "text": [
      "Enter a move you want to teach lickitung or 'random' to learn a random move. Enter 'quit' to quit. quit\n",
      "Your lickitung will not learn any new moves.\n"
     ]
    }
   ],
   "source": [
    "lickitung.teach_move()"
   ]
  },
  {
   "cell_type": "code",
   "execution_count": null,
   "metadata": {},
   "outputs": [],
   "source": []
  }
 ],
 "metadata": {
  "kernelspec": {
   "display_name": "Python 3 (ipykernel)",
   "language": "python",
   "name": "python3"
  },
  "language_info": {
   "codemirror_mode": {
    "name": "ipython",
    "version": 3
   },
   "file_extension": ".py",
   "mimetype": "text/x-python",
   "name": "python",
   "nbconvert_exporter": "python",
   "pygments_lexer": "ipython3",
   "version": "3.9.13"
  }
 },
 "nbformat": 4,
 "nbformat_minor": 4
}
